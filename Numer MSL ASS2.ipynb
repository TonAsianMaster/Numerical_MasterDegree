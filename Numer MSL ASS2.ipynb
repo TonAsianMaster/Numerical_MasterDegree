{
 "cells": [
  {
   "cell_type": "code",
   "execution_count": 1,
   "id": "respected-demonstration",
   "metadata": {},
   "outputs": [],
   "source": [
    "import math\n",
    "import pandas as pd\n",
    "import numpy as np\n",
    "import folium as fo\n",
    "import geopandas as gp"
   ]
  },
  {
   "cell_type": "code",
   "execution_count": 2,
   "id": "healthy-banks",
   "metadata": {},
   "outputs": [
    {
     "data": {
      "text/html": [
       "<div>\n",
       "<style scoped>\n",
       "    .dataframe tbody tr th:only-of-type {\n",
       "        vertical-align: middle;\n",
       "    }\n",
       "\n",
       "    .dataframe tbody tr th {\n",
       "        vertical-align: top;\n",
       "    }\n",
       "\n",
       "    .dataframe thead th {\n",
       "        text-align: right;\n",
       "    }\n",
       "</style>\n",
       "<table border=\"1\" class=\"dataframe\">\n",
       "  <thead>\n",
       "    <tr style=\"text-align: right;\">\n",
       "      <th></th>\n",
       "      <th>Date</th>\n",
       "      <th>Level</th>\n",
       "    </tr>\n",
       "  </thead>\n",
       "  <tbody>\n",
       "    <tr>\n",
       "      <th>0</th>\n",
       "      <td>1993.042</td>\n",
       "      <td>0.168</td>\n",
       "    </tr>\n",
       "    <tr>\n",
       "      <th>1</th>\n",
       "      <td>1993.125</td>\n",
       "      <td>0.041</td>\n",
       "    </tr>\n",
       "    <tr>\n",
       "      <th>2</th>\n",
       "      <td>1993.208</td>\n",
       "      <td>0.029</td>\n",
       "    </tr>\n",
       "    <tr>\n",
       "      <th>3</th>\n",
       "      <td>1993.292</td>\n",
       "      <td>-0.033</td>\n",
       "    </tr>\n",
       "    <tr>\n",
       "      <th>4</th>\n",
       "      <td>1993.375</td>\n",
       "      <td>-0.116</td>\n",
       "    </tr>\n",
       "    <tr>\n",
       "      <th>...</th>\n",
       "      <td>...</td>\n",
       "      <td>...</td>\n",
       "    </tr>\n",
       "    <tr>\n",
       "      <th>187</th>\n",
       "      <td>2008.625</td>\n",
       "      <td>-0.076</td>\n",
       "    </tr>\n",
       "    <tr>\n",
       "      <th>188</th>\n",
       "      <td>2008.708</td>\n",
       "      <td>-0.046</td>\n",
       "    </tr>\n",
       "    <tr>\n",
       "      <th>189</th>\n",
       "      <td>2008.792</td>\n",
       "      <td>0.151</td>\n",
       "    </tr>\n",
       "    <tr>\n",
       "      <th>190</th>\n",
       "      <td>2008.875</td>\n",
       "      <td>0.323</td>\n",
       "    </tr>\n",
       "    <tr>\n",
       "      <th>191</th>\n",
       "      <td>2008.958</td>\n",
       "      <td>0.325</td>\n",
       "    </tr>\n",
       "  </tbody>\n",
       "</table>\n",
       "<p>192 rows × 2 columns</p>\n",
       "</div>"
      ],
      "text/plain": [
       "         Date  Level\n",
       "0    1993.042  0.168\n",
       "1    1993.125  0.041\n",
       "2    1993.208  0.029\n",
       "3    1993.292 -0.033\n",
       "4    1993.375 -0.116\n",
       "..        ...    ...\n",
       "187  2008.625 -0.076\n",
       "188  2008.708 -0.046\n",
       "189  2008.792  0.151\n",
       "190  2008.875  0.323\n",
       "191  2008.958  0.325\n",
       "\n",
       "[192 rows x 2 columns]"
      ]
     },
     "execution_count": 2,
     "metadata": {},
     "output_type": "execute_result"
    }
   ],
   "source": [
    "sealevel=pd.read_csv('D:\\\\MasterDegree1\\\\Numerical\\\\Assigment2\\\\kl_tg_93_08.csv')\n",
    "sealevel "
   ]
  },
  {
   "cell_type": "code",
   "execution_count": 3,
   "id": "molecular-activation",
   "metadata": {
    "scrolled": true
   },
   "outputs": [
    {
     "data": {
      "text/html": [
       "<div>\n",
       "<style scoped>\n",
       "    .dataframe tbody tr th:only-of-type {\n",
       "        vertical-align: middle;\n",
       "    }\n",
       "\n",
       "    .dataframe tbody tr th {\n",
       "        vertical-align: top;\n",
       "    }\n",
       "\n",
       "    .dataframe thead th {\n",
       "        text-align: right;\n",
       "    }\n",
       "</style>\n",
       "<table border=\"1\" class=\"dataframe\">\n",
       "  <thead>\n",
       "    <tr style=\"text-align: right;\">\n",
       "      <th></th>\n",
       "      <th>Date</th>\n",
       "      <th>Level</th>\n",
       "      <th>Year</th>\n",
       "      <th>Month</th>\n",
       "      <th>Day</th>\n",
       "    </tr>\n",
       "  </thead>\n",
       "  <tbody>\n",
       "    <tr>\n",
       "      <th>0</th>\n",
       "      <td>1993.042</td>\n",
       "      <td>0.168</td>\n",
       "      <td>1993</td>\n",
       "      <td>1</td>\n",
       "      <td>15</td>\n",
       "    </tr>\n",
       "    <tr>\n",
       "      <th>1</th>\n",
       "      <td>1993.125</td>\n",
       "      <td>0.041</td>\n",
       "      <td>1993</td>\n",
       "      <td>2</td>\n",
       "      <td>15</td>\n",
       "    </tr>\n",
       "    <tr>\n",
       "      <th>2</th>\n",
       "      <td>1993.208</td>\n",
       "      <td>0.029</td>\n",
       "      <td>1993</td>\n",
       "      <td>3</td>\n",
       "      <td>15</td>\n",
       "    </tr>\n",
       "    <tr>\n",
       "      <th>3</th>\n",
       "      <td>1993.292</td>\n",
       "      <td>-0.033</td>\n",
       "      <td>1993</td>\n",
       "      <td>4</td>\n",
       "      <td>15</td>\n",
       "    </tr>\n",
       "    <tr>\n",
       "      <th>4</th>\n",
       "      <td>1993.375</td>\n",
       "      <td>-0.116</td>\n",
       "      <td>1993</td>\n",
       "      <td>5</td>\n",
       "      <td>15</td>\n",
       "    </tr>\n",
       "    <tr>\n",
       "      <th>...</th>\n",
       "      <td>...</td>\n",
       "      <td>...</td>\n",
       "      <td>...</td>\n",
       "      <td>...</td>\n",
       "      <td>...</td>\n",
       "    </tr>\n",
       "    <tr>\n",
       "      <th>187</th>\n",
       "      <td>2008.625</td>\n",
       "      <td>-0.076</td>\n",
       "      <td>2008</td>\n",
       "      <td>8</td>\n",
       "      <td>15</td>\n",
       "    </tr>\n",
       "    <tr>\n",
       "      <th>188</th>\n",
       "      <td>2008.708</td>\n",
       "      <td>-0.046</td>\n",
       "      <td>2008</td>\n",
       "      <td>9</td>\n",
       "      <td>15</td>\n",
       "    </tr>\n",
       "    <tr>\n",
       "      <th>189</th>\n",
       "      <td>2008.792</td>\n",
       "      <td>0.151</td>\n",
       "      <td>2008</td>\n",
       "      <td>10</td>\n",
       "      <td>15</td>\n",
       "    </tr>\n",
       "    <tr>\n",
       "      <th>190</th>\n",
       "      <td>2008.875</td>\n",
       "      <td>0.323</td>\n",
       "      <td>2008</td>\n",
       "      <td>11</td>\n",
       "      <td>15</td>\n",
       "    </tr>\n",
       "    <tr>\n",
       "      <th>191</th>\n",
       "      <td>2008.958</td>\n",
       "      <td>0.325</td>\n",
       "      <td>2008</td>\n",
       "      <td>12</td>\n",
       "      <td>15</td>\n",
       "    </tr>\n",
       "  </tbody>\n",
       "</table>\n",
       "<p>192 rows × 5 columns</p>\n",
       "</div>"
      ],
      "text/plain": [
       "         Date  Level  Year  Month  Day\n",
       "0    1993.042  0.168  1993      1   15\n",
       "1    1993.125  0.041  1993      2   15\n",
       "2    1993.208  0.029  1993      3   15\n",
       "3    1993.292 -0.033  1993      4   15\n",
       "4    1993.375 -0.116  1993      5   15\n",
       "..        ...    ...   ...    ...  ...\n",
       "187  2008.625 -0.076  2008      8   15\n",
       "188  2008.708 -0.046  2008      9   15\n",
       "189  2008.792  0.151  2008     10   15\n",
       "190  2008.875  0.323  2008     11   15\n",
       "191  2008.958  0.325  2008     12   15\n",
       "\n",
       "[192 rows x 5 columns]"
      ]
     },
     "execution_count": 3,
     "metadata": {},
     "output_type": "execute_result"
    }
   ],
   "source": [
    "#sealevel.dtypes\n",
    "sealevel[\"Year\"] = (sealevel[\"Date\"] - sealevel[\"Date\"]%1).astype(int)\n",
    "sealevel[\"Month\"] =( ( ( ( sealevel[\"Date\"]%1 )*12 )+1 ) - (( ( ( sealevel[\"Date\"]%1 )*12 )+1 )%1  )  ).astype(int)\n",
    "sealevel[\"Day\"] = round( ((((sealevel[\"Date\"]%1)*12)+1)%1)*30 ).astype(int)\n",
    "sealevel"
   ]
  },
  {
   "cell_type": "code",
   "execution_count": 4,
   "id": "another-abuse",
   "metadata": {},
   "outputs": [
    {
     "data": {
      "text/plain": [
       "Date     192\n",
       "Level    185\n",
       "Year     192\n",
       "Month    192\n",
       "Day      192\n",
       "dtype: int64"
      ]
     },
     "execution_count": 4,
     "metadata": {},
     "output_type": "execute_result"
    }
   ],
   "source": [
    "sealevel.count()"
   ]
  },
  {
   "cell_type": "code",
   "execution_count": 5,
   "id": "regulation-humanitarian",
   "metadata": {},
   "outputs": [
    {
     "data": {
      "text/plain": [
       "(192, 7)"
      ]
     },
     "execution_count": 5,
     "metadata": {},
     "output_type": "execute_result"
    }
   ],
   "source": [
    "CountNan = sealevel[\"Level\"].isna()\n",
    "CountNan\n",
    "len(CountNan) , sum(CountNan)\n",
    "\n",
    "# How many months having no data (NaN) Ans 192 - 185 = 7 Values "
   ]
  },
  {
   "cell_type": "code",
   "execution_count": 6,
   "id": "dress-twenty",
   "metadata": {},
   "outputs": [
    {
     "data": {
      "text/html": [
       "<div>\n",
       "<style scoped>\n",
       "    .dataframe tbody tr th:only-of-type {\n",
       "        vertical-align: middle;\n",
       "    }\n",
       "\n",
       "    .dataframe tbody tr th {\n",
       "        vertical-align: top;\n",
       "    }\n",
       "\n",
       "    .dataframe thead th {\n",
       "        text-align: right;\n",
       "    }\n",
       "</style>\n",
       "<table border=\"1\" class=\"dataframe\">\n",
       "  <thead>\n",
       "    <tr style=\"text-align: right;\">\n",
       "      <th></th>\n",
       "      <th>Date</th>\n",
       "      <th>Level</th>\n",
       "      <th>Year</th>\n",
       "      <th>Month</th>\n",
       "      <th>Day</th>\n",
       "    </tr>\n",
       "  </thead>\n",
       "  <tbody>\n",
       "    <tr>\n",
       "      <th>0</th>\n",
       "      <td>1993.042</td>\n",
       "      <td>0.168</td>\n",
       "      <td>1993</td>\n",
       "      <td>1</td>\n",
       "      <td>15</td>\n",
       "    </tr>\n",
       "    <tr>\n",
       "      <th>1</th>\n",
       "      <td>1993.125</td>\n",
       "      <td>0.041</td>\n",
       "      <td>1993</td>\n",
       "      <td>2</td>\n",
       "      <td>15</td>\n",
       "    </tr>\n",
       "    <tr>\n",
       "      <th>2</th>\n",
       "      <td>1993.208</td>\n",
       "      <td>0.029</td>\n",
       "      <td>1993</td>\n",
       "      <td>3</td>\n",
       "      <td>15</td>\n",
       "    </tr>\n",
       "    <tr>\n",
       "      <th>3</th>\n",
       "      <td>1993.292</td>\n",
       "      <td>-0.033</td>\n",
       "      <td>1993</td>\n",
       "      <td>4</td>\n",
       "      <td>15</td>\n",
       "    </tr>\n",
       "    <tr>\n",
       "      <th>4</th>\n",
       "      <td>1993.375</td>\n",
       "      <td>-0.116</td>\n",
       "      <td>1993</td>\n",
       "      <td>5</td>\n",
       "      <td>15</td>\n",
       "    </tr>\n",
       "    <tr>\n",
       "      <th>...</th>\n",
       "      <td>...</td>\n",
       "      <td>...</td>\n",
       "      <td>...</td>\n",
       "      <td>...</td>\n",
       "      <td>...</td>\n",
       "    </tr>\n",
       "    <tr>\n",
       "      <th>187</th>\n",
       "      <td>2008.625</td>\n",
       "      <td>-0.076</td>\n",
       "      <td>2008</td>\n",
       "      <td>8</td>\n",
       "      <td>15</td>\n",
       "    </tr>\n",
       "    <tr>\n",
       "      <th>188</th>\n",
       "      <td>2008.708</td>\n",
       "      <td>-0.046</td>\n",
       "      <td>2008</td>\n",
       "      <td>9</td>\n",
       "      <td>15</td>\n",
       "    </tr>\n",
       "    <tr>\n",
       "      <th>189</th>\n",
       "      <td>2008.792</td>\n",
       "      <td>0.151</td>\n",
       "      <td>2008</td>\n",
       "      <td>10</td>\n",
       "      <td>15</td>\n",
       "    </tr>\n",
       "    <tr>\n",
       "      <th>190</th>\n",
       "      <td>2008.875</td>\n",
       "      <td>0.323</td>\n",
       "      <td>2008</td>\n",
       "      <td>11</td>\n",
       "      <td>15</td>\n",
       "    </tr>\n",
       "    <tr>\n",
       "      <th>191</th>\n",
       "      <td>2008.958</td>\n",
       "      <td>0.325</td>\n",
       "      <td>2008</td>\n",
       "      <td>12</td>\n",
       "      <td>15</td>\n",
       "    </tr>\n",
       "  </tbody>\n",
       "</table>\n",
       "<p>185 rows × 5 columns</p>\n",
       "</div>"
      ],
      "text/plain": [
       "         Date  Level  Year  Month  Day\n",
       "0    1993.042  0.168  1993      1   15\n",
       "1    1993.125  0.041  1993      2   15\n",
       "2    1993.208  0.029  1993      3   15\n",
       "3    1993.292 -0.033  1993      4   15\n",
       "4    1993.375 -0.116  1993      5   15\n",
       "..        ...    ...   ...    ...  ...\n",
       "187  2008.625 -0.076  2008      8   15\n",
       "188  2008.708 -0.046  2008      9   15\n",
       "189  2008.792  0.151  2008     10   15\n",
       "190  2008.875  0.323  2008     11   15\n",
       "191  2008.958  0.325  2008     12   15\n",
       "\n",
       "[185 rows x 5 columns]"
      ]
     },
     "execution_count": 6,
     "metadata": {},
     "output_type": "execute_result"
    }
   ],
   "source": [
    "# Cut nan data\n",
    "Cutsealevel = sealevel.dropna()\n",
    "Cutsealevel"
   ]
  },
  {
   "cell_type": "code",
   "execution_count": 7,
   "id": "attractive-supply",
   "metadata": {},
   "outputs": [
    {
     "name": "stdout",
     "output_type": "stream",
     "text": [
      "There are 88 months below MSL.\n"
     ]
    }
   ],
   "source": [
    "#How many months are there in the data set that sea level is below MSL.\n",
    "below = 0 \n",
    "for i in Cutsealevel[\"Level\"] :\n",
    "    if i < 0 :\n",
    "        below += 1\n",
    "print(\"There are\" ,below , \"months below MSL.\")"
   ]
  },
  {
   "cell_type": "code",
   "execution_count": 8,
   "id": "robust-tutorial",
   "metadata": {},
   "outputs": [
    {
     "name": "stdout",
     "output_type": "stream",
     "text": [
      "There are 97 months above MSL.\n"
     ]
    }
   ],
   "source": [
    "#How many months are there in the data set that sea level is above MSL.\n",
    "above = 0 \n",
    "for j in Cutsealevel[\"Level\"] :\n",
    "    if j > 0 :\n",
    "        above += 1\n",
    "print(\"There are\" ,above , \"months above MSL.\")"
   ]
  },
  {
   "cell_type": "code",
   "execution_count": 9,
   "id": "built-converter",
   "metadata": {},
   "outputs": [
    {
     "data": {
      "text/plain": [
       "{1993: -0.029499999999999995,\n",
       " 1994: -0.027727272727272725,\n",
       " 1995: 0.007333333333333333,\n",
       " 1996: 0.006249999999999999,\n",
       " 1997: -0.01625,\n",
       " 1998: -0.01583333333333334,\n",
       " 1999: -0.012416666666666657,\n",
       " 2000: -0.04579999999999999,\n",
       " 2001: -0.0010000000000000033,\n",
       " 2002: -0.003545454545454546,\n",
       " 2003: -0.00016666666666667143,\n",
       " 2004: -4.625929269271485e-18,\n",
       " 2005: 0.016727272727272726,\n",
       " 2006: 0.071,\n",
       " 2007: 0.030250000000000003,\n",
       " 2008: 0.10090909090909092}"
      ]
     },
     "execution_count": 9,
     "metadata": {},
     "output_type": "execute_result"
    }
   ],
   "source": [
    "## In which year that the annual average sea level is lowest and highest? ##\n",
    "MaxYear = Cutsealevel[\"Year\"].max()\n",
    "MinYear = Cutsealevel[\"Year\"].min()\n",
    "k = list(range(MinYear,MaxYear+1)) #1993 to 2008\n",
    "mean = list() \n",
    "for m in k :    \n",
    "    Tempora = Cutsealevel.loc[(Cutsealevel[\"Year\"] == m)]\n",
    "    mean.append(Tempora[\"Level\"].mean())\n",
    "\n",
    "YearAvg =dict() #Buil dict to collect Year and AVG MSL to dict as key and values \n",
    "for i in range(0,len(k)) :\n",
    "    YearAvg[k[i]] = mean[i]\n",
    "YearAvg"
   ]
  },
  {
   "cell_type": "code",
   "execution_count": 10,
   "id": "frequent-greensboro",
   "metadata": {},
   "outputs": [
    {
     "name": "stdout",
     "output_type": "stream",
     "text": [
      "Lowest year =  2000\n",
      "Highest year =  2008\n",
      "###############################\n"
     ]
    }
   ],
   "source": [
    "import operator\n",
    "MaxMSL_Year = max(YearAvg.items(), key=operator.itemgetter(1))[0]\n",
    "MinMSl_Year = min(YearAvg.items(), key=operator.itemgetter(1))[0]\n",
    "print(\"Lowest year = \",MinMSl_Year)\n",
    "print(\"Highest year = \",MaxMSL_Year)\n",
    "print(\"###############################\")"
   ]
  },
  {
   "cell_type": "code",
   "execution_count": 11,
   "id": "dressed-phrase",
   "metadata": {},
   "outputs": [],
   "source": [
    "### Taking all data into consideration, in which month of the year that the sea level is highest?\n"
   ]
  },
  {
   "cell_type": "code",
   "execution_count": 12,
   "id": "deadly-concept",
   "metadata": {},
   "outputs": [
    {
     "data": {
      "text/plain": [
       "{1: 0.16266666666666665,\n",
       " 2: 0.12046666666666668,\n",
       " 3: 0.0699375,\n",
       " 4: -0.004599999999999999,\n",
       " 5: -0.10843749999999999,\n",
       " 6: -0.2119230769230769,\n",
       " 7: -0.192,\n",
       " 8: -0.186125,\n",
       " 9: -0.1025625,\n",
       " 10: 0.076375,\n",
       " 11: 0.19474999999999998,\n",
       " 12: 0.20318750000000002}"
      ]
     },
     "execution_count": 12,
     "metadata": {},
     "output_type": "execute_result"
    }
   ],
   "source": [
    "MaxMonth = Cutsealevel[\"Month\"].max()\n",
    "MinMonth = Cutsealevel[\"Month\"].min()\n",
    "P = list(range(MinMonth,MaxMonth+1)) #1993 to 2008\n",
    "Mmean = list() \n",
    "for q in P :    \n",
    "    Temporary = Cutsealevel.loc[(Cutsealevel[\"Month\"] == q)]\n",
    "    Mmean.append(Temporary[\"Level\"].mean())\n",
    "\n",
    "MonthAvg =dict() #Buil dict to collect Year and AVG MSL to dict as key and values \n",
    "for i in range(0,len(P)) :\n",
    "    MonthAvg[P[i]] = Mmean[i]\n",
    "MonthAvg"
   ]
  },
  {
   "cell_type": "code",
   "execution_count": 15,
   "id": "after-wellington",
   "metadata": {},
   "outputs": [
    {
     "name": "stdout",
     "output_type": "stream",
     "text": [
      "Lowest Month =  Jun\n",
      "Highest Month =  Dec\n",
      "#############################\n"
     ]
    }
   ],
   "source": [
    "MaxMSL_Month = max(MonthAvg.items(), key=operator.itemgetter(1))[0]\n",
    "MinMSl_Month = min(MonthAvg.items(), key=operator.itemgetter(1))[0]\n",
    "MonthList = [\"Jan\" , \"Feb\" , \"Mar\" , \"Apl\" , \"May\" ,\"Jun\",\"Jul\" ,\"Aug\", \"Sep\" ,\"Oct\" , \"Nov\", \"Dec\"]\n",
    "print(\"Lowest Month = \",MonthList[MinMSl_Month-1])\n",
    "print(\"Highest Month = \",MonthList[MaxMSL_Month-1])\n",
    "print(\"#############################\")"
   ]
  },
  {
   "cell_type": "code",
   "execution_count": 25,
   "id": "everyday-permit",
   "metadata": {},
   "outputs": [
    {
     "name": "stdout",
     "output_type": "stream",
     "text": [
      "question a =  -0.010553191489361702\n",
      "question b =  -0.02156521739130435\n",
      "question c =  -0.0011276595744680873\n",
      "question d =  0.05417777777777778\n"
     ]
    }
   ],
   "source": [
    "#Find the mean of sea level of 4 4-year periods:\n",
    "#a. 1993-1996,\n",
    "#b. 1997-2000,\n",
    "#c. 2001-2004 and\n",
    "#d. 2005-2008.\n",
    "#What are the patterns that you can notice?\n",
    "QuesA = Cutsealevel.loc[(Cutsealevel[\"Year\"]<1997)]\n",
    "QuesB = Cutsealevel.loc[(Cutsealevel[\"Year\"]==1997)|(Cutsealevel[\"Year\"]==1998)|(Cutsealevel[\"Year\"]==1999)|(Cutsealevel[\"Year\"]==2000)]\n",
    "QuesC = Cutsealevel.loc[(Cutsealevel[\"Year\"]==2001)|(Cutsealevel[\"Year\"]==2002)|(Cutsealevel[\"Year\"]==2003)|(Cutsealevel[\"Year\"]==2004)]\n",
    "QuesD = Cutsealevel.loc[(Cutsealevel[\"Year\"]==2005)|(Cutsealevel[\"Year\"]==2006)|(Cutsealevel[\"Year\"]==2007)|(Cutsealevel[\"Year\"]==2008)]\n",
    "print(\"question a = \",QuesA[\"Level\"].mean() )\n",
    "print(\"question b = \",QuesB[\"Level\"].mean() )\n",
    "print(\"question c = \",QuesC[\"Level\"].mean() )\n",
    "print(\"question d = \",QuesD[\"Level\"].mean() )"
   ]
  },
  {
   "cell_type": "code",
   "execution_count": 26,
   "id": "computational-executive",
   "metadata": {},
   "outputs": [
    {
     "name": "stdout",
     "output_type": "stream",
     "text": [
      "The average MSL for every 4 years shown last 4 years MSL is rising\n"
     ]
    }
   ],
   "source": [
    "print(\"The average MSL for every 4 years shown last 4 years MSL is rising\")"
   ]
  },
  {
   "cell_type": "code",
   "execution_count": 32,
   "id": "greenhouse-impact",
   "metadata": {},
   "outputs": [
    {
     "name": "stderr",
     "output_type": "stream",
     "text": [
      "<ipython-input-32-19b127ac67da>:1: SettingWithCopyWarning: \n",
      "A value is trying to be set on a copy of a slice from a DataFrame.\n",
      "Try using .loc[row_indexer,col_indexer] = value instead\n",
      "\n",
      "See the caveats in the documentation: https://pandas.pydata.org/pandas-docs/stable/user_guide/indexing.html#returning-a-view-versus-a-copy\n",
      "  Cutsealevel[\"Timestamp\"] = pd.to_datetime(Cutsealevel['Day'].astype(str)+' '+ Cutsealevel['Month'].astype(str)+' '+Cutsealevel['Year'].astype(str) )\n"
     ]
    }
   ],
   "source": [
    "Cutsealevel[\"Timestamp\"] = pd.to_datetime(Cutsealevel['Day'].astype(str)+' '+ Cutsealevel['Month'].astype(str)+' '+Cutsealevel['Year'].astype(str) )"
   ]
  },
  {
   "cell_type": "code",
   "execution_count": 37,
   "id": "foreign-julian",
   "metadata": {},
   "outputs": [
    {
     "data": {
      "text/plain": [
       "<AxesSubplot:xlabel='Timestamp'>"
      ]
     },
     "execution_count": 37,
     "metadata": {},
     "output_type": "execute_result"
    },
    {
     "data": {
      "image/png": "[encoded data removed]",
      "text/plain": [
       "<Figure size 432x288 with 1 Axes>"
      ]
     },
     "metadata": {
      "needs_background": "light"
     },
     "output_type": "display_data"
    }
   ],
   "source": [
    "import matplotlib.pyplot as plt\n",
    "Cutsealevel.plot(x=\"Timestamp\" , y=\"Level\")"
   ]
  },
  {
   "cell_type": "code",
   "execution_count": null,
   "id": "ahead-battery",
   "metadata": {},
   "outputs": [],
   "source": []
  }
 ],
 "metadata": {
  "kernelspec": {
   "display_name": "Python 3",
   "language": "python",
   "name": "python3"
  },
  "language_info": {
   "codemirror_mode": {
    "name": "ipython",
    "version": 3
   },
   "file_extension": ".py",
   "mimetype": "text/x-python",
   "name": "python",
   "nbconvert_exporter": "python",
   "pygments_lexer": "ipython3",
   "version": "3.8.5"
  }
 },
 "nbformat": 4,
 "nbformat_minor": 5
}
